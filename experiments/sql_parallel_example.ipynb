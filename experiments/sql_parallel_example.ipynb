{
 "cells": [
  {
   "cell_type": "code",
   "execution_count": 59,
   "id": "1d4f01fb",
   "metadata": {},
   "outputs": [
    {
     "name": "stdout",
     "output_type": "stream",
     "text": [
      "/l/users/roberto.guillen/nilm/logs\n"
     ]
    }
   ],
   "source": [
    "LOGFILEPATH = \"/l/users/roberto.guillen/nilm/logs/\"\n",
    "%cd \"/l/users/roberto.guillen/nilm/logs/\""
   ]
  },
  {
   "cell_type": "code",
   "execution_count": 67,
   "id": "1614886a",
   "metadata": {},
   "outputs": [],
   "source": [
    "import numpy as np\n",
    "import pickle\n",
    "from itertools import product\n",
    "#----------------------------------\n",
    "import nest_asyncio\n",
    "nest_asyncio.apply()\n",
    "from nilmlab.resultLogger import *\n",
    "\n",
    "resultLogger = ResultLogger(LOGFILEPATH,\"cluster_test\")\n",
    "resultLogger.makeConnection()"
   ]
  },
  {
   "cell_type": "code",
   "execution_count": 36,
   "id": "c3349d71",
   "metadata": {},
   "outputs": [
    {
     "name": "stdout",
     "output_type": "stream",
     "text": [
      "total 315\n",
      "drwxrwx--- 4 roberto.guillen rl_energy 66048 Jul  4 11:41 .\n",
      "drwxrwx--- 6 roberto.guillen rl_energy 66048 Jul  2 20:12 ..\n",
      "-rw-r--r-- 1 roberto.guillen students  73728 Jul  4 11:41 nilm.db\n",
      "-rw-r--r-- 1 roberto.guillen students  12288 Jul  4 11:41 nilmo.db\n",
      "drwxr-xr-x 2 roberto.guillen students  66048 Jun 29 17:10 redd\n",
      "drwxr-xr-x 2 roberto.guillen students  66048 Jul  2 22:57 ukdale\n"
     ]
    }
   ],
   "source": [
    "!ls -la \"/l/users/roberto.guillen/nilm/logs/\""
   ]
  },
  {
   "cell_type": "code",
   "execution_count": 69,
   "id": "b488e1c8",
   "metadata": {},
   "outputs": [
    {
     "data": {
      "text/plain": [
       "[('cluster_n1_test', None),\n",
       " ('cluster_n2_test', b'\\x80\\x03cpandas.core.frame\\nDataFrame\\nq\\x00)\\x81q\\x01}q\\x02(X\\x05\\x00\\x00\\x00_dataq\\x03cpandas.core.internals.managers\\nBlockManager\\nq\\x04)\\x81q\\x ... (821 characters truncated) ... 00\\x00mgr_locsq0cbuiltins\\nslice\\nq1K\\x00K\\x01K\\x01\\x87q2Rq3uaustq4bX\\x04\\x00\\x00\\x00_typq5X\\t\\x00\\x00\\x00dataframeq6X\\t\\x00\\x00\\x00_metadataq7]q8ub.'),\n",
       " ('cluster_n2_test[0.31412693]', b'\\x80\\x03cpandas.core.frame\\nDataFrame\\nq\\x00)\\x81q\\x01}q\\x02(X\\x05\\x00\\x00\\x00_dataq\\x03cpandas.core.internals.managers\\nBlockManager\\nq\\x04)\\x81q\\x ... (821 characters truncated) ... 00\\x00mgr_locsq0cbuiltins\\nslice\\nq1K\\x00K\\x01K\\x01\\x87q2Rq3uaustq4bX\\x04\\x00\\x00\\x00_typq5X\\t\\x00\\x00\\x00dataframeq6X\\t\\x00\\x00\\x00_metadataq7]q8ub.'),\n",
       " ('cluster_n7_test[0.93987509]', b'\\x80\\x03cpandas.core.frame\\nDataFrame\\nq\\x00)\\x81q\\x01}q\\x02(X\\x05\\x00\\x00\\x00_dataq\\x03cpandas.core.internals.managers\\nBlockManager\\nq\\x04)\\x81q\\x ... (821 characters truncated) ... 00\\x00mgr_locsq0cbuiltins\\nslice\\nq1K\\x00K\\x01K\\x01\\x87q2Rq3uaustq4bX\\x04\\x00\\x00\\x00_typq5X\\t\\x00\\x00\\x00dataframeq6X\\t\\x00\\x00\\x00_metadataq7]q8ub.'),\n",
       " ('cluster_n7_test[0.48441864]', b'\\x80\\x03cpandas.core.frame\\nDataFrame\\nq\\x00)\\x81q\\x01}q\\x02(X\\x05\\x00\\x00\\x00_dataq\\x03cpandas.core.internals.managers\\nBlockManager\\nq\\x04)\\x81q\\x ... (821 characters truncated) ... 00\\x00mgr_locsq0cbuiltins\\nslice\\nq1K\\x00K\\x01K\\x01\\x87q2Rq3uaustq4bX\\x04\\x00\\x00\\x00_typq5X\\t\\x00\\x00\\x00dataframeq6X\\t\\x00\\x00\\x00_metadataq7]q8ub.'),\n",
       " ('cluster_n7_test[0.21767674]', b'\\x80\\x03cpandas.core.frame\\nDataFrame\\nq\\x00)\\x81q\\x01}q\\x02(X\\x05\\x00\\x00\\x00_dataq\\x03cpandas.core.internals.managers\\nBlockManager\\nq\\x04)\\x81q\\x ... (821 characters truncated) ... 00\\x00mgr_locsq0cbuiltins\\nslice\\nq1K\\x00K\\x01K\\x01\\x87q2Rq3uaustq4bX\\x04\\x00\\x00\\x00_typq5X\\t\\x00\\x00\\x00dataframeq6X\\t\\x00\\x00\\x00_metadataq7]q8ub.'),\n",
       " ('cluster_n7_test[0.59856937]', b'\\x80\\x03cpandas.core.frame\\nDataFrame\\nq\\x00)\\x81q\\x01}q\\x02(X\\x05\\x00\\x00\\x00_dataq\\x03cpandas.core.internals.managers\\nBlockManager\\nq\\x04)\\x81q\\x ... (821 characters truncated) ... 00\\x00mgr_locsq0cbuiltins\\nslice\\nq1K\\x00K\\x01K\\x01\\x87q2Rq3uaustq4bX\\x04\\x00\\x00\\x00_typq5X\\t\\x00\\x00\\x00dataframeq6X\\t\\x00\\x00\\x00_metadataq7]q8ub.'),\n",
       " ('cluster_n7_test[0.37882097]', b'\\x80\\x03cpandas.core.frame\\nDataFrame\\nq\\x00)\\x81q\\x01}q\\x02(X\\x05\\x00\\x00\\x00_dataq\\x03cpandas.core.internals.managers\\nBlockManager\\nq\\x04)\\x81q\\x ... (821 characters truncated) ... 00\\x00mgr_locsq0cbuiltins\\nslice\\nq1K\\x00K\\x01K\\x01\\x87q2Rq3uaustq4bX\\x04\\x00\\x00\\x00_typq5X\\t\\x00\\x00\\x00dataframeq6X\\t\\x00\\x00\\x00_metadataq7]q8ub.'),\n",
       " ('cluster_n7_test[0.328826]', b'\\x80\\x03cpandas.core.frame\\nDataFrame\\nq\\x00)\\x81q\\x01}q\\x02(X\\x05\\x00\\x00\\x00_dataq\\x03cpandas.core.internals.managers\\nBlockManager\\nq\\x04)\\x81q\\x ... (821 characters truncated) ... 00\\x00mgr_locsq0cbuiltins\\nslice\\nq1K\\x00K\\x01K\\x01\\x87q2Rq3uaustq4bX\\x04\\x00\\x00\\x00_typq5X\\t\\x00\\x00\\x00dataframeq6X\\t\\x00\\x00\\x00_metadataq7]q8ub.'),\n",
       " ('cluster_n7_test[0.21764841]', None),\n",
       " ('cluster_n7_test[0.86180958]', b'\\x80\\x03cpandas.core.frame\\nDataFrame\\nq\\x00)\\x81q\\x01}q\\x02(X\\x05\\x00\\x00\\x00_dataq\\x03cpandas.core.internals.managers\\nBlockManager\\nq\\x04)\\x81q\\x ... (821 characters truncated) ... 00\\x00mgr_locsq0cbuiltins\\nslice\\nq1K\\x00K\\x01K\\x01\\x87q2Rq3uaustq4bX\\x04\\x00\\x00\\x00_typq5X\\t\\x00\\x00\\x00dataframeq6X\\t\\x00\\x00\\x00_metadataq7]q8ub.'),\n",
       " ('cluster_n7_test[0.11091757]', b'\\x80\\x03cpandas.core.frame\\nDataFrame\\nq\\x00)\\x81q\\x01}q\\x02(X\\x05\\x00\\x00\\x00_dataq\\x03cpandas.core.internals.managers\\nBlockManager\\nq\\x04)\\x81q\\x ... (821 characters truncated) ... 00\\x00mgr_locsq0cbuiltins\\nslice\\nq1K\\x00K\\x01K\\x01\\x87q2Rq3uaustq4bX\\x04\\x00\\x00\\x00_typq5X\\t\\x00\\x00\\x00dataframeq6X\\t\\x00\\x00\\x00_metadataq7]q8ub.'),\n",
       " ('cluster_n7_test[0.42661462]', b'\\x80\\x03cpandas.core.frame\\nDataFrame\\nq\\x00)\\x81q\\x01}q\\x02(X\\x05\\x00\\x00\\x00_dataq\\x03cpandas.core.internals.managers\\nBlockManager\\nq\\x04)\\x81q\\x ... (821 characters truncated) ... 00\\x00mgr_locsq0cbuiltins\\nslice\\nq1K\\x00K\\x01K\\x01\\x87q2Rq3uaustq4bX\\x04\\x00\\x00\\x00_typq5X\\t\\x00\\x00\\x00dataframeq6X\\t\\x00\\x00\\x00_metadataq7]q8ub.'),\n",
       " ('cluster_n7_test[0.85022052]', None),\n",
       " ('cluster_n7_test[0.13262669]', None),\n",
       " ('cluster_n7_test[0.60538516]', b'\\x80\\x03cpandas.core.frame\\nDataFrame\\nq\\x00)\\x81q\\x01}q\\x02(X\\x05\\x00\\x00\\x00_dataq\\x03cpandas.core.internals.managers\\nBlockManager\\nq\\x04)\\x81q\\x ... (821 characters truncated) ... 00\\x00mgr_locsq0cbuiltins\\nslice\\nq1K\\x00K\\x01K\\x01\\x87q2Rq3uaustq4bX\\x04\\x00\\x00\\x00_typq5X\\t\\x00\\x00\\x00dataframeq6X\\t\\x00\\x00\\x00_metadataq7]q8ub.'),\n",
       " ('cluster_n7_test[0.77916156]', None),\n",
       " ('cluster_n7_test[0.61917526]', None),\n",
       " ('cluster_n7_test[0.61592649]', None),\n",
       " ('cluster_n7_test[0.37480933]', b'\\x80\\x03cpandas.core.frame\\nDataFrame\\nq\\x00)\\x81q\\x01}q\\x02(X\\x05\\x00\\x00\\x00_dataq\\x03cpandas.core.internals.managers\\nBlockManager\\nq\\x04)\\x81q\\x ... (821 characters truncated) ... 00\\x00mgr_locsq0cbuiltins\\nslice\\nq1K\\x00K\\x01K\\x01\\x87q2Rq3uaustq4bX\\x04\\x00\\x00\\x00_typq5X\\t\\x00\\x00\\x00dataframeq6X\\t\\x00\\x00\\x00_metadataq7]q8ub.'),\n",
       " ('cluster_n7_test[0.36043136]', b'\\x80\\x03cpandas.core.frame\\nDataFrame\\nq\\x00)\\x81q\\x01}q\\x02(X\\x05\\x00\\x00\\x00_dataq\\x03cpandas.core.internals.managers\\nBlockManager\\nq\\x04)\\x81q\\x ... (821 characters truncated) ... 00\\x00mgr_locsq0cbuiltins\\nslice\\nq1K\\x00K\\x01K\\x01\\x87q2Rq3uaustq4bX\\x04\\x00\\x00\\x00_typq5X\\t\\x00\\x00\\x00dataframeq6X\\t\\x00\\x00\\x00_metadataq7]q8ub.'),\n",
       " ('cluster_n7_test[0.5078697]', b'\\x80\\x03cpandas.core.frame\\nDataFrame\\nq\\x00)\\x81q\\x01}q\\x02(X\\x05\\x00\\x00\\x00_dataq\\x03cpandas.core.internals.managers\\nBlockManager\\nq\\x04)\\x81q\\x ... (821 characters truncated) ... 00\\x00mgr_locsq0cbuiltins\\nslice\\nq1K\\x00K\\x01K\\x01\\x87q2Rq3uaustq4bX\\x04\\x00\\x00\\x00_typq5X\\t\\x00\\x00\\x00dataframeq6X\\t\\x00\\x00\\x00_metadataq7]q8ub.'),\n",
       " ('cluster_n7_test[0.70998767]', b'\\x80\\x03cpandas.core.frame\\nDataFrame\\nq\\x00)\\x81q\\x01}q\\x02(X\\x05\\x00\\x00\\x00_dataq\\x03cpandas.core.internals.managers\\nBlockManager\\nq\\x04)\\x81q\\x ... (821 characters truncated) ... 00\\x00mgr_locsq0cbuiltins\\nslice\\nq1K\\x00K\\x01K\\x01\\x87q2Rq3uaustq4bX\\x04\\x00\\x00\\x00_typq5X\\t\\x00\\x00\\x00dataframeq6X\\t\\x00\\x00\\x00_metadataq7]q8ub.'),\n",
       " ('cluster_n7_test[0.94446972]', b'\\x80\\x03cpandas.core.frame\\nDataFrame\\nq\\x00)\\x81q\\x01}q\\x02(X\\x05\\x00\\x00\\x00_dataq\\x03cpandas.core.internals.managers\\nBlockManager\\nq\\x04)\\x81q\\x ... (821 characters truncated) ... 00\\x00mgr_locsq0cbuiltins\\nslice\\nq1K\\x00K\\x01K\\x01\\x87q2Rq3uaustq4bX\\x04\\x00\\x00\\x00_typq5X\\t\\x00\\x00\\x00dataframeq6X\\t\\x00\\x00\\x00_metadataq7]q8ub.'),\n",
       " ('cluster_n7_test[0.55787236]', b'\\x80\\x03cpandas.core.frame\\nDataFrame\\nq\\x00)\\x81q\\x01}q\\x02(X\\x05\\x00\\x00\\x00_dataq\\x03cpandas.core.internals.managers\\nBlockManager\\nq\\x04)\\x81q\\x ... (821 characters truncated) ... 00\\x00mgr_locsq0cbuiltins\\nslice\\nq1K\\x00K\\x01K\\x01\\x87q2Rq3uaustq4bX\\x04\\x00\\x00\\x00_typq5X\\t\\x00\\x00\\x00dataframeq6X\\t\\x00\\x00\\x00_metadataq7]q8ub.'),\n",
       " ('cluster_n7_test[0.21838913]', b'\\x80\\x03cpandas.core.frame\\nDataFrame\\nq\\x00)\\x81q\\x01}q\\x02(X\\x05\\x00\\x00\\x00_dataq\\x03cpandas.core.internals.managers\\nBlockManager\\nq\\x04)\\x81q\\x ... (821 characters truncated) ... 00\\x00mgr_locsq0cbuiltins\\nslice\\nq1K\\x00K\\x01K\\x01\\x87q2Rq3uaustq4bX\\x04\\x00\\x00\\x00_typq5X\\t\\x00\\x00\\x00dataframeq6X\\t\\x00\\x00\\x00_metadataq7]q8ub.'),\n",
       " ('cluster_n7_test[0.11646836]', b'\\x80\\x03cpandas.core.frame\\nDataFrame\\nq\\x00)\\x81q\\x01}q\\x02(X\\x05\\x00\\x00\\x00_dataq\\x03cpandas.core.internals.managers\\nBlockManager\\nq\\x04)\\x81q\\x ... (821 characters truncated) ... 00\\x00mgr_locsq0cbuiltins\\nslice\\nq1K\\x00K\\x01K\\x01\\x87q2Rq3uaustq4bX\\x04\\x00\\x00\\x00_typq5X\\t\\x00\\x00\\x00dataframeq6X\\t\\x00\\x00\\x00_metadataq7]q8ub.'),\n",
       " ('cluster_n7_test[0.88304621]', b'\\x80\\x03cpandas.core.frame\\nDataFrame\\nq\\x00)\\x81q\\x01}q\\x02(X\\x05\\x00\\x00\\x00_dataq\\x03cpandas.core.internals.managers\\nBlockManager\\nq\\x04)\\x81q\\x ... (821 characters truncated) ... 00\\x00mgr_locsq0cbuiltins\\nslice\\nq1K\\x00K\\x01K\\x01\\x87q2Rq3uaustq4bX\\x04\\x00\\x00\\x00_typq5X\\t\\x00\\x00\\x00dataframeq6X\\t\\x00\\x00\\x00_metadataq7]q8ub.'),\n",
       " ('cluster_n7_test[0.32722889]', b'\\x80\\x03cpandas.core.frame\\nDataFrame\\nq\\x00)\\x81q\\x01}q\\x02(X\\x05\\x00\\x00\\x00_dataq\\x03cpandas.core.internals.managers\\nBlockManager\\nq\\x04)\\x81q\\x ... (821 characters truncated) ... 00\\x00mgr_locsq0cbuiltins\\nslice\\nq1K\\x00K\\x01K\\x01\\x87q2Rq3uaustq4bX\\x04\\x00\\x00\\x00_typq5X\\t\\x00\\x00\\x00dataframeq6X\\t\\x00\\x00\\x00_metadataq7]q8ub.'),\n",
       " ('cluster_n7_test[0.08825462]', None),\n",
       " ('cluster_n7_test[0.79623123]', b'\\x80\\x03cpandas.core.frame\\nDataFrame\\nq\\x00)\\x81q\\x01}q\\x02(X\\x05\\x00\\x00\\x00_dataq\\x03cpandas.core.internals.managers\\nBlockManager\\nq\\x04)\\x81q\\x ... (821 characters truncated) ... 00\\x00mgr_locsq0cbuiltins\\nslice\\nq1K\\x00K\\x01K\\x01\\x87q2Rq3uaustq4bX\\x04\\x00\\x00\\x00_typq5X\\t\\x00\\x00\\x00dataframeq6X\\t\\x00\\x00\\x00_metadataq7]q8ub.'),\n",
       " ('cluster_n7_test[0.40843381]', b'\\x80\\x03cpandas.core.frame\\nDataFrame\\nq\\x00)\\x81q\\x01}q\\x02(X\\x05\\x00\\x00\\x00_dataq\\x03cpandas.core.internals.managers\\nBlockManager\\nq\\x04)\\x81q\\x ... (821 characters truncated) ... 00\\x00mgr_locsq0cbuiltins\\nslice\\nq1K\\x00K\\x01K\\x01\\x87q2Rq3uaustq4bX\\x04\\x00\\x00\\x00_typq5X\\t\\x00\\x00\\x00dataframeq6X\\t\\x00\\x00\\x00_metadataq7]q8ub.'),\n",
       " ('cluster_n7_test[0.00647704]', b'\\x80\\x03cpandas.core.frame\\nDataFrame\\nq\\x00)\\x81q\\x01}q\\x02(X\\x05\\x00\\x00\\x00_dataq\\x03cpandas.core.internals.managers\\nBlockManager\\nq\\x04)\\x81q\\x ... (821 characters truncated) ... 00\\x00mgr_locsq0cbuiltins\\nslice\\nq1K\\x00K\\x01K\\x01\\x87q2Rq3uaustq4bX\\x04\\x00\\x00\\x00_typq5X\\t\\x00\\x00\\x00dataframeq6X\\t\\x00\\x00\\x00_metadataq7]q8ub.'),\n",
       " ('cluster_n7_test[0.8438919]', b'\\x80\\x03cpandas.core.frame\\nDataFrame\\nq\\x00)\\x81q\\x01}q\\x02(X\\x05\\x00\\x00\\x00_dataq\\x03cpandas.core.internals.managers\\nBlockManager\\nq\\x04)\\x81q\\x ... (821 characters truncated) ... 00\\x00mgr_locsq0cbuiltins\\nslice\\nq1K\\x00K\\x01K\\x01\\x87q2Rq3uaustq4bX\\x04\\x00\\x00\\x00_typq5X\\t\\x00\\x00\\x00dataframeq6X\\t\\x00\\x00\\x00_metadataq7]q8ub.'),\n",
       " ('cluster_n7_test[0.24514086]', b'\\x80\\x03cpandas.core.frame\\nDataFrame\\nq\\x00)\\x81q\\x01}q\\x02(X\\x05\\x00\\x00\\x00_dataq\\x03cpandas.core.internals.managers\\nBlockManager\\nq\\x04)\\x81q\\x ... (821 characters truncated) ... 00\\x00mgr_locsq0cbuiltins\\nslice\\nq1K\\x00K\\x01K\\x01\\x87q2Rq3uaustq4bX\\x04\\x00\\x00\\x00_typq5X\\t\\x00\\x00\\x00dataframeq6X\\t\\x00\\x00\\x00_metadataq7]q8ub.'),\n",
       " ('cluster_n7_test[0.93974677]', b'\\x80\\x03cpandas.core.frame\\nDataFrame\\nq\\x00)\\x81q\\x01}q\\x02(X\\x05\\x00\\x00\\x00_dataq\\x03cpandas.core.internals.managers\\nBlockManager\\nq\\x04)\\x81q\\x ... (821 characters truncated) ... 00\\x00mgr_locsq0cbuiltins\\nslice\\nq1K\\x00K\\x01K\\x01\\x87q2Rq3uaustq4bX\\x04\\x00\\x00\\x00_typq5X\\t\\x00\\x00\\x00dataframeq6X\\t\\x00\\x00\\x00_metadataq7]q8ub.'),\n",
       " ('cluster_n7_test[0.11455961]', b'\\x80\\x03cpandas.core.frame\\nDataFrame\\nq\\x00)\\x81q\\x01}q\\x02(X\\x05\\x00\\x00\\x00_dataq\\x03cpandas.core.internals.managers\\nBlockManager\\nq\\x04)\\x81q\\x ... (821 characters truncated) ... 00\\x00mgr_locsq0cbuiltins\\nslice\\nq1K\\x00K\\x01K\\x01\\x87q2Rq3uaustq4bX\\x04\\x00\\x00\\x00_typq5X\\t\\x00\\x00\\x00dataframeq6X\\t\\x00\\x00\\x00_metadataq7]q8ub.'),\n",
       " ('cluster_n7_test[0.49523745]', b'\\x80\\x03cpandas.core.frame\\nDataFrame\\nq\\x00)\\x81q\\x01}q\\x02(X\\x05\\x00\\x00\\x00_dataq\\x03cpandas.core.internals.managers\\nBlockManager\\nq\\x04)\\x81q\\x ... (821 characters truncated) ... 00\\x00mgr_locsq0cbuiltins\\nslice\\nq1K\\x00K\\x01K\\x01\\x87q2Rq3uaustq4bX\\x04\\x00\\x00\\x00_typq5X\\t\\x00\\x00\\x00dataframeq6X\\t\\x00\\x00\\x00_metadataq7]q8ub.'),\n",
       " ('cluster_n7_test[0.63646722]', b'\\x80\\x03cpandas.core.frame\\nDataFrame\\nq\\x00)\\x81q\\x01}q\\x02(X\\x05\\x00\\x00\\x00_dataq\\x03cpandas.core.internals.managers\\nBlockManager\\nq\\x04)\\x81q\\x ... (821 characters truncated) ... 00\\x00mgr_locsq0cbuiltins\\nslice\\nq1K\\x00K\\x01K\\x01\\x87q2Rq3uaustq4bX\\x04\\x00\\x00\\x00_typq5X\\t\\x00\\x00\\x00dataframeq6X\\t\\x00\\x00\\x00_metadataq7]q8ub.'),\n",
       " ('cluster_n7_test[0.73854609]', b'\\x80\\x03cpandas.core.frame\\nDataFrame\\nq\\x00)\\x81q\\x01}q\\x02(X\\x05\\x00\\x00\\x00_dataq\\x03cpandas.core.internals.managers\\nBlockManager\\nq\\x04)\\x81q\\x ... (821 characters truncated) ... 00\\x00mgr_locsq0cbuiltins\\nslice\\nq1K\\x00K\\x01K\\x01\\x87q2Rq3uaustq4bX\\x04\\x00\\x00\\x00_typq5X\\t\\x00\\x00\\x00dataframeq6X\\t\\x00\\x00\\x00_metadataq7]q8ub.'),\n",
       " ('cluster_n7_test[0.69337316]', b'\\x80\\x03cpandas.core.frame\\nDataFrame\\nq\\x00)\\x81q\\x01}q\\x02(X\\x05\\x00\\x00\\x00_dataq\\x03cpandas.core.internals.managers\\nBlockManager\\nq\\x04)\\x81q\\x ... (821 characters truncated) ... 00\\x00mgr_locsq0cbuiltins\\nslice\\nq1K\\x00K\\x01K\\x01\\x87q2Rq3uaustq4bX\\x04\\x00\\x00\\x00_typq5X\\t\\x00\\x00\\x00dataframeq6X\\t\\x00\\x00\\x00_metadataq7]q8ub.'),\n",
       " ('cluster_n7_test[0.96513755]', b'\\x80\\x03cpandas.core.frame\\nDataFrame\\nq\\x00)\\x81q\\x01}q\\x02(X\\x05\\x00\\x00\\x00_dataq\\x03cpandas.core.internals.managers\\nBlockManager\\nq\\x04)\\x81q\\x ... (821 characters truncated) ... 00\\x00mgr_locsq0cbuiltins\\nslice\\nq1K\\x00K\\x01K\\x01\\x87q2Rq3uaustq4bX\\x04\\x00\\x00\\x00_typq5X\\t\\x00\\x00\\x00dataframeq6X\\t\\x00\\x00\\x00_metadataq7]q8ub.'),\n",
       " ('cluster_n7_test[0.38419068]', b'\\x80\\x03cpandas.core.frame\\nDataFrame\\nq\\x00)\\x81q\\x01}q\\x02(X\\x05\\x00\\x00\\x00_dataq\\x03cpandas.core.internals.managers\\nBlockManager\\nq\\x04)\\x81q\\x ... (821 characters truncated) ... 00\\x00mgr_locsq0cbuiltins\\nslice\\nq1K\\x00K\\x01K\\x01\\x87q2Rq3uaustq4bX\\x04\\x00\\x00\\x00_typq5X\\t\\x00\\x00\\x00dataframeq6X\\t\\x00\\x00\\x00_metadataq7]q8ub.'),\n",
       " ('cluster_n7_test[0.43335425]', b'\\x80\\x03cpandas.core.frame\\nDataFrame\\nq\\x00)\\x81q\\x01}q\\x02(X\\x05\\x00\\x00\\x00_dataq\\x03cpandas.core.internals.managers\\nBlockManager\\nq\\x04)\\x81q\\x ... (821 characters truncated) ... 00\\x00mgr_locsq0cbuiltins\\nslice\\nq1K\\x00K\\x01K\\x01\\x87q2Rq3uaustq4bX\\x04\\x00\\x00\\x00_typq5X\\t\\x00\\x00\\x00dataframeq6X\\t\\x00\\x00\\x00_metadataq7]q8ub.'),\n",
       " ('cluster_n7_test[0.92439866]', b'\\x80\\x03cpandas.core.frame\\nDataFrame\\nq\\x00)\\x81q\\x01}q\\x02(X\\x05\\x00\\x00\\x00_dataq\\x03cpandas.core.internals.managers\\nBlockManager\\nq\\x04)\\x81q\\x ... (821 characters truncated) ... 00\\x00mgr_locsq0cbuiltins\\nslice\\nq1K\\x00K\\x01K\\x01\\x87q2Rq3uaustq4bX\\x04\\x00\\x00\\x00_typq5X\\t\\x00\\x00\\x00dataframeq6X\\t\\x00\\x00\\x00_metadataq7]q8ub.'),\n",
       " ('cluster_n7_test[0.65621847]', b'\\x80\\x03cpandas.core.frame\\nDataFrame\\nq\\x00)\\x81q\\x01}q\\x02(X\\x05\\x00\\x00\\x00_dataq\\x03cpandas.core.internals.managers\\nBlockManager\\nq\\x04)\\x81q\\x ... (821 characters truncated) ... 00\\x00mgr_locsq0cbuiltins\\nslice\\nq1K\\x00K\\x01K\\x01\\x87q2Rq3uaustq4bX\\x04\\x00\\x00\\x00_typq5X\\t\\x00\\x00\\x00dataframeq6X\\t\\x00\\x00\\x00_metadataq7]q8ub.'),\n",
       " ('cluster_n7_test[0.52894516]', b'\\x80\\x03cpandas.core.frame\\nDataFrame\\nq\\x00)\\x81q\\x01}q\\x02(X\\x05\\x00\\x00\\x00_dataq\\x03cpandas.core.internals.managers\\nBlockManager\\nq\\x04)\\x81q\\x ... (821 characters truncated) ... 00\\x00mgr_locsq0cbuiltins\\nslice\\nq1K\\x00K\\x01K\\x01\\x87q2Rq3uaustq4bX\\x04\\x00\\x00\\x00_typq5X\\t\\x00\\x00\\x00dataframeq6X\\t\\x00\\x00\\x00_metadataq7]q8ub.'),\n",
       " ('cluster_n7_test[0.20020414]', None),\n",
       " ('cluster_n7_test[0.70277102]', None),\n",
       " ('cluster_n7_test[0.97093492]', None),\n",
       " ('cluster_n7_test[0.87740171]', None),\n",
       " ('cluster_n7_test[0.86770512]', None)]"
      ]
     },
     "execution_count": 69,
     "metadata": {},
     "output_type": "execute_result"
    }
   ],
   "source": [
    "resultLogger.getAllData()"
   ]
  },
  {
   "cell_type": "code",
   "execution_count": 70,
   "id": "ad0cdc42",
   "metadata": {},
   "outputs": [
    {
     "name": "stdout",
     "output_type": "stream",
     "text": [
      "cluster_n1_test\n",
      "cluster_n2_test\n",
      "cluster_n2_test[0.31412693]\n",
      "cluster_n7_test[0.93987509]\n",
      "cluster_n7_test[0.48441864]\n",
      "cluster_n7_test[0.21767674]\n",
      "cluster_n7_test[0.59856937]\n",
      "cluster_n7_test[0.37882097]\n",
      "cluster_n7_test[0.328826]\n",
      "cluster_n7_test[0.21764841]\n",
      "cluster_n7_test[0.86180958]\n",
      "cluster_n7_test[0.11091757]\n",
      "cluster_n7_test[0.42661462]\n",
      "cluster_n7_test[0.85022052]\n",
      "cluster_n7_test[0.13262669]\n",
      "cluster_n7_test[0.60538516]\n",
      "cluster_n7_test[0.77916156]\n",
      "cluster_n7_test[0.61917526]\n",
      "cluster_n7_test[0.61592649]\n",
      "cluster_n7_test[0.37480933]\n",
      "cluster_n7_test[0.36043136]\n",
      "cluster_n7_test[0.5078697]\n",
      "cluster_n7_test[0.70998767]\n",
      "cluster_n7_test[0.94446972]\n",
      "cluster_n7_test[0.55787236]\n",
      "cluster_n7_test[0.21838913]\n",
      "cluster_n7_test[0.11646836]\n",
      "cluster_n7_test[0.88304621]\n",
      "cluster_n7_test[0.32722889]\n",
      "cluster_n7_test[0.08825462]\n",
      "cluster_n7_test[0.79623123]\n",
      "cluster_n7_test[0.40843381]\n",
      "cluster_n7_test[0.00647704]\n",
      "cluster_n7_test[0.8438919]\n",
      "cluster_n7_test[0.24514086]\n",
      "cluster_n7_test[0.93974677]\n",
      "cluster_n7_test[0.11455961]\n",
      "cluster_n7_test[0.49523745]\n",
      "cluster_n7_test[0.63646722]\n",
      "cluster_n7_test[0.73854609]\n",
      "cluster_n7_test[0.69337316]\n",
      "cluster_n7_test[0.96513755]\n",
      "cluster_n7_test[0.38419068]\n",
      "cluster_n7_test[0.43335425]\n",
      "cluster_n7_test[0.92439866]\n",
      "cluster_n7_test[0.65621847]\n",
      "cluster_n7_test[0.52894516]\n",
      "cluster_n7_test[0.20020414]\n",
      "cluster_n7_test[0.70277102]\n",
      "cluster_n7_test[0.97093492]\n",
      "cluster_n7_test[0.87740171]\n",
      "cluster_n7_test[0.86770512]\n"
     ]
    }
   ],
   "source": [
    "for row in resultLogger.getAllData():\n",
    "    #print(row[0],pickle.loads(row[1]))\n",
    "    print(row[0])\n",
    "    "
   ]
  },
  {
   "cell_type": "code",
   "execution_count": 81,
   "id": "96e753b4",
   "metadata": {},
   "outputs": [
    {
     "data": {
      "text/plain": [
       "52"
      ]
     },
     "execution_count": 81,
     "metadata": {},
     "output_type": "execute_result"
    }
   ],
   "source": [
    "len(resultLogger.getAllData())"
   ]
  },
  {
   "cell_type": "code",
   "execution_count": 86,
   "id": "305b1e74",
   "metadata": {},
   "outputs": [
    {
     "name": "stdout",
     "output_type": "stream",
     "text": [
      "[]\n"
     ]
    }
   ],
   "source": [
    "\n",
    "from nilmlab.sql_manager import ResultLogger\n",
    "\n",
    "result_logger = ResultLogger(db_name='nilm')\n",
    "\n",
    "result_logger.create_db()\n",
    "\n",
    "print(result_logger.get_results())"
   ]
  }
 ],
 "metadata": {
  "kernelspec": {
   "display_name": "Python 3.7.8 ('nilmtk-env')",
   "language": "python",
   "name": "python3"
  },
  "language_info": {
   "codemirror_mode": {
    "name": "ipython",
    "version": 3
   },
   "file_extension": ".py",
   "mimetype": "text/x-python",
   "name": "python",
   "nbconvert_exporter": "python",
   "pygments_lexer": "ipython3",
   "version": "3.7.8"
  },
  "vscode": {
   "interpreter": {
    "hash": "c2798ecf838f76291c7848af8fe987a15a8c1ed6292b025a28164137c09ab617"
   }
  }
 },
 "nbformat": 4,
 "nbformat_minor": 5
}
