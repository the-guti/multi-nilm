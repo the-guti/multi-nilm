{
 "cells": [
  {
   "cell_type": "code",
   "execution_count": 2,
   "metadata": {},
   "outputs": [
    {
     "name": "stdout",
     "output_type": "stream",
     "text": [
      "/l/users/roberto.guillen/nilm/logs\n"
     ]
    }
   ],
   "source": [
    "LOGFILEPATH = \"/l/users/roberto.guillen/nilm/logs/\"\n",
    "%cd \"/l/users/roberto.guillen/nilm/logs/\"\n",
    "\n",
    "import numpy as np\n",
    "import pickle\n",
    "import time\n",
    "from itertools import product\n",
    "#----------------------------------\n",
    "import nest_asyncio\n",
    "nest_asyncio.apply()\n",
    "from nilmlab.resultLogger import *\n",
    "\n",
    "resultLogger = ResultLogger(LOGFILEPATH,\"deleteo\")\n",
    "\n",
    "resultLogger.makeConnection()"
   ]
  },
  {
   "cell_type": "code",
   "execution_count": 3,
   "metadata": {},
   "outputs": [],
   "source": [
    "resultLogger.lockSetting(\"bubu\")  \n",
    "time.sleep(100)\n",
    "data = {\"asfa\":1231,\"arr\":np.random.randn(1000,100)}\n",
    "resultLogger.updateSetting(\"bubu\",data)"
   ]
  },
  {
   "cell_type": "code",
   "execution_count": null,
   "metadata": {},
   "outputs": [],
   "source": []
  }
 ],
 "metadata": {
  "kernelspec": {
   "display_name": "Python 3.7.8 ('nilmtk-env')",
   "language": "python",
   "name": "python3"
  },
  "language_info": {
   "codemirror_mode": {
    "name": "ipython",
    "version": 3
   },
   "file_extension": ".py",
   "mimetype": "text/x-python",
   "name": "python",
   "nbconvert_exporter": "python",
   "pygments_lexer": "ipython3",
   "version": "3.7.8"
  },
  "orig_nbformat": 4,
  "vscode": {
   "interpreter": {
    "hash": "c2798ecf838f76291c7848af8fe987a15a8c1ed6292b025a28164137c09ab617"
   }
  }
 },
 "nbformat": 4,
 "nbformat_minor": 2
}
