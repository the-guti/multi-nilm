{
 "cells": [
  {
   "cell_type": "code",
   "execution_count": 2,
   "id": "a06f27b3",
   "metadata": {},
   "outputs": [],
   "source": [
    "from nilmlab.sql_manager import ResultLogger\n",
    "import os \n",
    "from itertools import product\n",
    "import pandas as pd\n",
    "\n",
    "result_logger = ResultLogger(db_name='nilm')\n",
    "result_logger.create_db()\n",
    "\n",
    "datasource_name = \"ukdale\" \n",
    "RESULTS_DIR = \"/l/users/roberto.guillen/nilm/results/\""
   ]
  },
  {
   "cell_type": "code",
   "execution_count": null,
   "id": "ede82fab",
   "metadata": {},
   "outputs": [],
   "source": [
    "# If result file exists \n",
    "ta = []\n",
    "for i, (components, ts_length, num_rep_vec,classifier_type) in enumerate(product([2**p for p in range(2, 9)], [\"10Min\",\"Hour\",\"Day\"], [1,2,4,8],[0,1,2,3])):\n",
    "    exp_name = \"SQLday_dataset_%s_components_%d_tsLength_%s_numRepVec_%d_classifier_type_%d\"%(datasource_name, components, ts_length, num_rep_vec,classifier_type) \n",
    "    # ta.append(i)\n",
    "    # continue\n",
    "    results_file_dir = RESULTS_DIR + datasource_name + \"/\" \n",
    "    results_file_dir = os.path.join(results_file_dir, f'{exp_name}.csv')\n",
    "    if os.path.exists(results_file_dir): # if exists create db entry\n",
    "        result_logger.insert_result(exp_name)\n",
    "        df = pd.read_csv(results_file_dir)\n",
    "        print(\"storing\",exp_name)\n",
    "        result_logger.update_result(key=exp_name,value=df)\n",
    "# print(len(ta))"
   ]
  },
  {
   "cell_type": "code",
   "execution_count": null,
   "id": "f31f106c",
   "metadata": {},
   "outputs": [],
   "source": [
    "result_logger.get_results()"
   ]
  },
  {
   "cell_type": "code",
   "execution_count": 58,
   "id": "3bb4c18c",
   "metadata": {},
   "outputs": [],
   "source": [
    "import pickle\n",
    "import pandas as pd\n",
    "\n",
    "db_results = []\n",
    "\n",
    "for (name, results) in result_logger.get_results():\n",
    "\n",
    "    if results is not None:        \n",
    "\n",
    "        df_results = pickle.loads(results)\n",
    "\n",
    "        df_results.insert(0, 'exp_name', name)\n",
    "\n",
    "        db_results.append(df_results)\n",
    "\n",
    "complete_results = pd.concat(db_results, axis=0)\n",
    "complete_results[\"report\"] = complete_results[\"report\"].replace({'\\'': '\"'}, regex=True)\n",
    "complete_results[\"report\"] = complete_results[\"report\"].apply(json.loads)\n",
    "\n",
    "# Remove duplicates\n",
    "\n",
    "complete_results = complete_results.drop_duplicates(subset=['exp_name'], keep='last')\n",
    "\n",
    "complete_results.to_csv(\"complete_results.csv\")\n",
    "\n",
    "# print(db_results[1]['train_end_date'])\n",
    "\n",
    "# df_results = pd.DataFrame.from_dict(db_results)\n",
    "\n",
    "# db_results[0].insert(0, 'test', 'test')\n",
    "\n",
    "# df = pd.DataFrame(db_results, columns=['exp_name', 'results'])\n",
    "\n",
    "# df.head()\n",
    "\n",
    "# for row in  result_logger.get_results():\n",
    "    \n",
    "#     print(pickle.load(row[1]))"
   ]
  },
  {
   "cell_type": "code",
   "execution_count": 59,
   "id": "5b12f982",
   "metadata": {},
   "outputs": [],
   "source": [
    "sample_report = complete_results['report'].iloc[0]\n",
    "\n",
    "apliances_columns = []\n",
    "\n",
    "for key in sample_report.keys():\n",
    "\n",
    "    for metric in sample_report[key]:\n",
    "        apliances_columns.append(key + \"_\" + metric)\n",
    "\n",
    "# Extract a list of all the metrics\n",
    "\n",
    "report_as_list = complete_results['report'].to_list()\n",
    "\n",
    "apliances_kpis = []\n",
    "\n",
    "for report in report_as_list:\n",
    "\n",
    "    row_metrics = []\n",
    "\n",
    "    for key in report.keys():\n",
    "\n",
    "        for metric in report[key]:\n",
    "            row_metrics.append(report[key][metric])\n",
    "\n",
    "    apliances_kpis.append(row_metrics)"
   ]
  },
  {
   "cell_type": "code",
   "execution_count": 60,
   "id": "e6c52191",
   "metadata": {},
   "outputs": [],
   "source": [
    "complete_results = complete_results.reindex(columns=complete_results.columns.tolist() + apliances_columns) \n",
    "\n",
    "\n",
    "\n",
    "complete_results[apliances_columns] = apliances_kpis"
   ]
  },
  {
   "cell_type": "code",
   "execution_count": 61,
   "id": "85612442",
   "metadata": {},
   "outputs": [
    {
     "data": {
      "text/plain": [
       "['microwave_precision',\n",
       " 'microwave_recall',\n",
       " 'microwave_f1-score',\n",
       " 'microwave_support',\n",
       " 'dish washer_precision',\n",
       " 'dish washer_recall',\n",
       " 'dish washer_f1-score',\n",
       " 'dish washer_support',\n",
       " 'fridge_precision',\n",
       " 'fridge_recall',\n",
       " 'fridge_f1-score',\n",
       " 'fridge_support',\n",
       " 'kettle_precision',\n",
       " 'kettle_recall',\n",
       " 'kettle_f1-score',\n",
       " 'kettle_support',\n",
       " 'washer dryer_precision',\n",
       " 'washer dryer_recall',\n",
       " 'washer dryer_f1-score',\n",
       " 'washer dryer_support',\n",
       " 'toaster_precision',\n",
       " 'toaster_recall',\n",
       " 'toaster_f1-score',\n",
       " 'toaster_support',\n",
       " 'television_precision',\n",
       " 'television_recall',\n",
       " 'television_f1-score',\n",
       " 'television_support',\n",
       " 'micro avg_precision',\n",
       " 'micro avg_recall',\n",
       " 'micro avg_f1-score',\n",
       " 'micro avg_support',\n",
       " 'macro avg_precision',\n",
       " 'macro avg_recall',\n",
       " 'macro avg_f1-score',\n",
       " 'macro avg_support',\n",
       " 'weighted avg_precision',\n",
       " 'weighted avg_recall',\n",
       " 'weighted avg_f1-score',\n",
       " 'weighted avg_support',\n",
       " 'samples avg_precision',\n",
       " 'samples avg_recall',\n",
       " 'samples avg_f1-score',\n",
       " 'samples avg_support']"
      ]
     },
     "execution_count": 61,
     "metadata": {},
     "output_type": "execute_result"
    }
   ],
   "source": [
    "apliances_columns"
   ]
  },
  {
   "cell_type": "code",
   "execution_count": 62,
   "id": "ab575d57",
   "metadata": {},
   "outputs": [],
   "source": [
    "complete_results.to_csv(\"complete_results.csv\")"
   ]
  }
 ],
 "metadata": {
  "kernelspec": {
   "display_name": "Python 3.8.6 ('ml-703-project')",
   "language": "python",
   "name": "python3"
  },
  "language_info": {
   "codemirror_mode": {
    "name": "ipython",
    "version": 3
   },
   "file_extension": ".py",
   "mimetype": "text/x-python",
   "name": "python",
   "nbconvert_exporter": "python",
   "pygments_lexer": "ipython3",
   "version": "3.8.6"
  },
  "vscode": {
   "interpreter": {
    "hash": "904f488d362683af3573a9470ccefb2e5754d3c1408f735a8cc7a32cf952c76c"
   }
  }
 },
 "nbformat": 4,
 "nbformat_minor": 5
}
