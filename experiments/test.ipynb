{
 "cells": [
  {
   "cell_type": "code",
   "execution_count": 3,
   "metadata": {},
   "outputs": [],
   "source": [
    "import os \n",
    "dirname = os.path.abspath('')\n",
    "\n"
   ]
  },
  {
   "cell_type": "code",
   "execution_count": 1,
   "metadata": {},
   "outputs": [
    {
     "ename": "NameError",
     "evalue": "name 'dirname' is not defined",
     "output_type": "error",
     "traceback": [
      "\u001b[0;31m---------------------------------------------------------------------------\u001b[0m",
      "\u001b[0;31mNameError\u001b[0m                                 Traceback (most recent call last)",
      "\u001b[0;32m<ipython-input-1-8b7c9706ed18>\u001b[0m in \u001b[0;36m<module>\u001b[0;34m\u001b[0m\n\u001b[0;32m----> 1\u001b[0;31m \u001b[0mos\u001b[0m\u001b[0;34m.\u001b[0m\u001b[0mpath\u001b[0m\u001b[0;34m.\u001b[0m\u001b[0mjoin\u001b[0m\u001b[0;34m(\u001b[0m\u001b[0mdirname\u001b[0m\u001b[0;34m,\u001b[0m \u001b[0;34m\"../pretrained_models/ukdale/KNNweights_max20comp ukdale_1hr_16_19_08-27_05_2022.pkl\"\u001b[0m\u001b[0;34m)\u001b[0m\u001b[0;34m\u001b[0m\u001b[0;34m\u001b[0m\u001b[0m\n\u001b[0m",
      "\u001b[0;31mNameError\u001b[0m: name 'dirname' is not defined"
     ]
    }
   ],
   "source": [
    "os.path.join(dirname, \"../pretrained_models/ukdale/KNNweights_max20comp ukdale_1hr_16_19_08-27_05_2022.pkl\")"
   ]
  },
  {
   "cell_type": "code",
   "execution_count": null,
   "metadata": {},
   "outputs": [],
   "source": [
    "from sklearn.ensemble import ExtraTreesClassifier, RandomForestClassifier\n",
    "from sklearn.naive_bayes import GaussianNB\n",
    "from sklearn.neural_network import MLPClassifier\n",
    "from sklearn.tree import ExtraTreeClassifier\n",
    "from skmultilearn.adapt import MLkNN\n",
    "from skmultilearn.ensemble import RakelD\n",
    "\n",
    "from datasources.paths_manager import SAVED_MODEL, MY_SAVED_MODEL, PATH_SIGNAL2VEC, MY_PATH_SIGNAL2VEC\n",
    "from nilmlab.factories import TransformerFactory\n",
    "from nilmlab.lab import TransformerType\n",
    "\n",
    "\n",
    "SIGNAL2VEC = 'SIGNAL2VEC'\n",
    "MYSIGNAL2VEC = 'MYSIGNAL2VEC'\n",
    "TRANSFORMER_MODELS = 'TRANSFORMER_MODELS'\n",
    "CLF_MODELS = 'CLF_MODELS'"
   ]
  },
  {
   "cell_type": "code",
   "execution_count": null,
   "metadata": {},
   "outputs": [],
   "source": [
    "# Build embeddings\n",
    "gmm_experiment = {\n",
    "    MYSIGNAL2VEC : {\n",
    "        CLF_MODELS : [\n",
    "            MLPClassifier(hidden_layer_sizes=(2000, 100, 100), learning_rate='adaptive', solver='adam')\n",
    "        ],\n",
    "        TRANSFORMER_MODELS: [\n",
    "            TransformerFactory.build_mysignal2vec_train()\n",
    "        ]\n",
    "    }\n",
    "}"
   ]
  },
  {
   "cell_type": "code",
   "execution_count": null,
   "metadata": {},
   "outputs": [],
   "source": [
    "# Run experiment\n",
    "my_experiment = {\n",
    "    MYSIGNAL2VEC : {\n",
    "        CLF_MODELS : [\n",
    "            MLPClassifier(hidden_layer_sizes=(2000, 100, 100), learning_rate='adaptive', solver='adam')\n",
    "        ],\n",
    "        TRANSFORMER_MODELS: [\n",
    "            TransformerFactory.build_mysignal2vec_infer(MY_SAVED_MODEL, MY_PATH_SIGNAL2VEC, num_of_vectors=1)\n",
    "        ]\n",
    "    }\n",
    "}"
   ]
  }
 ],
 "metadata": {
  "kernelspec": {
   "display_name": "Python 3.7.8 ('nilmtk-env')",
   "language": "python",
   "name": "python3"
  },
  "language_info": {
   "codemirror_mode": {
    "name": "ipython",
    "version": 3
   },
   "file_extension": ".py",
   "mimetype": "text/x-python",
   "name": "python",
   "nbconvert_exporter": "python",
   "pygments_lexer": "ipython3",
   "version": "3.7.8"
  },
  "orig_nbformat": 4,
  "vscode": {
   "interpreter": {
    "hash": "c2798ecf838f76291c7848af8fe987a15a8c1ed6292b025a28164137c09ab617"
   }
  }
 },
 "nbformat": 4,
 "nbformat_minor": 2
}
