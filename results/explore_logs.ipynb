{
 "cells": [
  {
   "cell_type": "code",
   "execution_count": 1,
   "metadata": {},
   "outputs": [],
   "source": [
    "import pandas as pd\n",
    "\n",
    "results_file_dir = '/home/roberto.guillen/Documents/multi-nilm/results/complete_results.csv' \n",
    "algo_file_dir = '/home/roberto.guillen/Documents/multi-nilm/results/complete_results.csv' \n",
    "\n",
    "my_df = pd.read_csv(results_file_dir)\n",
    "algo_df = pd.read_csv(algo_file_dir)"
   ]
  },
  {
   "cell_type": "code",
   "execution_count": 15,
   "metadata": {},
   "outputs": [
    {
     "name": "stderr",
     "output_type": "stream",
     "text": [
      "5886.40s - Error when getting str with custom provider: <pydevd_plugins.extensions.types.pydevd_plugin_pandas_types.PandasDataFrameTypeResolveProvider object at 0x7f7957b1c490>.\n",
      "Traceback (most recent call last):\n",
      "  File \"/home/roberto.guillen/.conda/envs/nilmtk-env/lib/python3.7/site-packages/debugpy/_vendored/pydevd/_pydevd_bundle/pydevd_xml.py\", line 216, in str_from_providers\n",
      "    return provider.get_str(o)\n",
      "  File \"/home/roberto.guillen/.conda/envs/nilmtk-env/lib/python3.7/site-packages/debugpy/_vendored/pydevd/pydevd_plugins/extensions/types/pydevd_plugin_pandas_types.py\", line 75, in get_str\n",
      "    show_dimensions=True,\n",
      "TypeError: to_string() got an unexpected keyword argument 'max_colwidth'\n"
     ]
    },
    {
     "name": "stdout",
     "output_type": "stream",
     "text": [
      "potato\n"
     ]
    }
   ],
   "source": [
    "df.nunique()\n",
    "print(\"potato\")"
   ]
  },
  {
   "cell_type": "code",
   "execution_count": 4,
   "metadata": {},
   "outputs": [
    {
     "data": {
      "text/html": [
       "<div>\n",
       "<style scoped>\n",
       "    .dataframe tbody tr th:only-of-type {\n",
       "        vertical-align: middle;\n",
       "    }\n",
       "\n",
       "    .dataframe tbody tr th {\n",
       "        vertical-align: top;\n",
       "    }\n",
       "\n",
       "    .dataframe thead th {\n",
       "        text-align: right;\n",
       "    }\n",
       "</style>\n",
       "<table border=\"1\" class=\"dataframe\">\n",
       "  <thead>\n",
       "    <tr style=\"text-align: right;\">\n",
       "      <th></th>\n",
       "      <th>exp_name</th>\n",
       "    </tr>\n",
       "  </thead>\n",
       "  <tbody>\n",
       "    <tr>\n",
       "      <th>0</th>\n",
       "      <td>SQLday_dataset_ukdale_components_4_tsLength_10...</td>\n",
       "    </tr>\n",
       "    <tr>\n",
       "      <th>1</th>\n",
       "      <td>SQLday_dataset_ukdale_components_4_tsLength_10...</td>\n",
       "    </tr>\n",
       "    <tr>\n",
       "      <th>2</th>\n",
       "      <td>SQLday_dataset_ukdale_components_4_tsLength_10...</td>\n",
       "    </tr>\n",
       "    <tr>\n",
       "      <th>3</th>\n",
       "      <td>SQLday_dataset_ukdale_components_4_tsLength_10...</td>\n",
       "    </tr>\n",
       "    <tr>\n",
       "      <th>4</th>\n",
       "      <td>SQLday_dataset_ukdale_components_4_tsLength_10...</td>\n",
       "    </tr>\n",
       "    <tr>\n",
       "      <th>...</th>\n",
       "      <td>...</td>\n",
       "    </tr>\n",
       "    <tr>\n",
       "      <th>693</th>\n",
       "      <td>SQLday_dataset_ukdale_components_256_tsLength_...</td>\n",
       "    </tr>\n",
       "    <tr>\n",
       "      <th>694</th>\n",
       "      <td>SQLday_dataset_ukdale_components_256_tsLength_...</td>\n",
       "    </tr>\n",
       "    <tr>\n",
       "      <th>695</th>\n",
       "      <td>SQLday_dataset_ukdale_components_256_tsLength_...</td>\n",
       "    </tr>\n",
       "    <tr>\n",
       "      <th>696</th>\n",
       "      <td>SQLday_dataset_ukdale_components_256_tsLength_...</td>\n",
       "    </tr>\n",
       "    <tr>\n",
       "      <th>697</th>\n",
       "      <td>SQLday_dataset_ukdale_components_256_tsLength_...</td>\n",
       "    </tr>\n",
       "  </tbody>\n",
       "</table>\n",
       "<p>698 rows × 1 columns</p>\n",
       "</div>"
      ],
      "text/plain": [
       "                                              exp_name\n",
       "0    SQLday_dataset_ukdale_components_4_tsLength_10...\n",
       "1    SQLday_dataset_ukdale_components_4_tsLength_10...\n",
       "2    SQLday_dataset_ukdale_components_4_tsLength_10...\n",
       "3    SQLday_dataset_ukdale_components_4_tsLength_10...\n",
       "4    SQLday_dataset_ukdale_components_4_tsLength_10...\n",
       "..                                                 ...\n",
       "693  SQLday_dataset_ukdale_components_256_tsLength_...\n",
       "694  SQLday_dataset_ukdale_components_256_tsLength_...\n",
       "695  SQLday_dataset_ukdale_components_256_tsLength_...\n",
       "696  SQLday_dataset_ukdale_components_256_tsLength_...\n",
       "697  SQLday_dataset_ukdale_components_256_tsLength_...\n",
       "\n",
       "[698 rows x 1 columns]"
      ]
     },
     "execution_count": 4,
     "metadata": {},
     "output_type": "execute_result"
    }
   ],
   "source": [
    "df[['exp_name']]"
   ]
  },
  {
   "cell_type": "markdown",
   "metadata": {},
   "source": [
    "# Read Other Algorithms"
   ]
  },
  {
   "cell_type": "code",
   "execution_count": 27,
   "metadata": {},
   "outputs": [
    {
     "name": "stdout",
     "output_type": "stream",
     "text": [
      "28\n"
     ]
    }
   ],
   "source": [
    "from nilmlab.sql_manager import ResultLogger\n",
    "import pickle \n",
    "from itertools import product\n",
    "import pandas as pd\n",
    "import json\n",
    "\n",
    "\n",
    "result_logger = ResultLogger(db_name='algo')\n",
    "result_logger.create_db()\n",
    "\n",
    "db_results = []\n",
    "empty_exp =  []\n",
    "\n",
    "print(len(result_logger.get_results()))\n",
    "\n",
    "for (name, results) in result_logger.get_results():\n",
    "    if results is not None:        \n",
    "        df_results = pickle.loads(results)\n",
    "\n",
    "        df_results.insert(0, 'exp_name', name)\n",
    "\n",
    "        db_results.append(df_results)\n",
    "    else: \n",
    "        empty_exp.append(name)\n",
    "\n",
    "complete_results = pd.concat(db_results, axis=0)\n",
    "complete_results[\"report\"] = complete_results[\"report\"].replace({'\\'': '\"'}, regex=True)\n",
    "complete_results[\"report\"] = complete_results[\"report\"].apply(json.loads)\n",
    "\n",
    "# Remove duplicates\n",
    "complete_results = complete_results.drop_duplicates(subset=['exp_name'], keep='last')\n",
    "\n",
    "complete_results.to_csv(\"algo_complete_results.csv\")"
   ]
  },
  {
   "cell_type": "code",
   "execution_count": 29,
   "metadata": {},
   "outputs": [],
   "source": [
    "sample_report = complete_results['report'].iloc[0]\n",
    "\n",
    "apliances_columns = []\n",
    "\n",
    "for key in sample_report.keys():\n",
    "\n",
    "    for metric in sample_report[key]:\n",
    "        apliances_columns.append(key + \"_\" + metric)\n",
    "\n",
    "# Extract a list of all the metrics\n",
    "\n",
    "report_as_list = complete_results['report'].to_list()\n",
    "\n",
    "apliances_kpis = []\n",
    "\n",
    "for report in report_as_list:\n",
    "\n",
    "    row_metrics = []\n",
    "\n",
    "    for key in report.keys():\n",
    "\n",
    "        for metric in report[key]:\n",
    "            row_metrics.append(report[key][metric])\n",
    "\n",
    "    apliances_kpis.append(row_metrics)\n",
    "\n",
    "complete_results = complete_results.reindex(columns=complete_results.columns.tolist() + apliances_columns) \n",
    "complete_results[apliances_columns] = apliances_kpis\n",
    "complete_results.to_csv(\"algo_complete_results.csv\")"
   ]
  },
  {
   "cell_type": "code",
   "execution_count": 24,
   "metadata": {},
   "outputs": [
    {
     "data": {
      "text/plain": [
       "['SQLday_dataset_ukdale_algoWAVELETS_tsLength_10Min',\n",
       " 'SQLday_dataset_ukdale_algoPAA_tsLength_10Min',\n",
       " 'SQLday_dataset_ukdale_algoPAA_tsLength_Hour',\n",
       " 'SQLday_dataset_ukdale_algoPAA_tsLength_Day',\n",
       " 'SQLday_dataset_ukdale_algoSAX1D_tsLength_10Min',\n",
       " 'SQLday_dataset_ukdale_algoSAX1D_tsLength_Hour',\n",
       " 'SQLday_dataset_ukdale_algoSAX1D_tsLength_Day',\n",
       " 'SQLday_dataset_ukdale_algoSAX_tsLength_Day',\n",
       " 'SQLday_dataset_ukdale_algoWEASEL_tsLength_10Min']"
      ]
     },
     "execution_count": 24,
     "metadata": {},
     "output_type": "execute_result"
    }
   ],
   "source": [
    "empty_exp"
   ]
  },
  {
   "cell_type": "markdown",
   "metadata": {},
   "source": [
    "# Rebuild databse"
   ]
  },
  {
   "cell_type": "code",
   "execution_count": null,
   "metadata": {},
   "outputs": [],
   "source": [
    "from nilmlab.sql_manager import ResultLogger\n",
    "import os \n",
    "from itertools import product\n",
    "import pandas as pd\n",
    "\n",
    "result_logger = ResultLogger(db_name='nilm')\n",
    "result_logger.create_db()\n",
    "\n",
    "datasource_name = \"ukdale\" \n",
    "RESULTS_DIR = \"/l/users/roberto.guillen/nilm/results/\""
   ]
  },
  {
   "cell_type": "code",
   "execution_count": null,
   "metadata": {},
   "outputs": [],
   "source": [
    "# If result file exists \n",
    "ta = []\n",
    "for i, (components, ts_length, num_rep_vec,classifier_type) in enumerate(product([2**p for p in range(2, 9)], [\"10Min\",\"Hour\",\"Day\"], [1,2,4,8],[0,1,2,3])):\n",
    "    exp_name = \"SQLday_dataset_%s_components_%d_tsLength_%s_numRepVec_%d_classifier_type_%d\"%(datasource_name, components, ts_length, num_rep_vec,classifier_type) \n",
    "    # ta.append(i)\n",
    "    # continue\n",
    "    results_file_dir = RESULTS_DIR + datasource_name + \"/\" \n",
    "    results_file_dir = os.path.join(results_file_dir, f'{exp_name}.csv')\n",
    "    if os.path.exists(results_file_dir): # if exists create db entry\n",
    "        result_logger.insert_result(exp_name)\n",
    "        df = pd.read_csv(results_file_dir)\n",
    "        print(\"storing\",exp_name)\n",
    "        result_logger.update_result(key=exp_name,value=df)\n",
    "# print(len(ta))"
   ]
  },
  {
   "cell_type": "code",
   "execution_count": null,
   "metadata": {},
   "outputs": [],
   "source": [
    "result_logger.get_results()"
   ]
  },
  {
   "cell_type": "markdown",
   "metadata": {},
   "source": [
    "# Read NILM DB"
   ]
  },
  {
   "cell_type": "code",
   "execution_count": null,
   "metadata": {},
   "outputs": [],
   "source": [
    "import pickle\n",
    "import pandas as pd\n",
    "\n",
    "db_results = []\n",
    "\n",
    "for (name, results) in result_logger.get_results():\n",
    "\n",
    "    if results is not None:        \n",
    "\n",
    "        df_results = pickle.loads(results)\n",
    "\n",
    "        df_results.insert(0, 'exp_name', name)\n",
    "\n",
    "        db_results.append(df_results)\n",
    "\n",
    "complete_results = pd.concat(db_results, axis=0)\n",
    "complete_results[\"report\"] = complete_results[\"report\"].replace({'\\'': '\"'}, regex=True)\n",
    "complete_results[\"report\"] = complete_results[\"report\"].apply(json.loads)\n",
    "\n",
    "# Remove duplicates\n",
    "\n",
    "complete_results = complete_results.drop_duplicates(subset=['exp_name'], keep='last')\n",
    "\n",
    "complete_results.to_csv(\"complete_results.csv\")"
   ]
  },
  {
   "cell_type": "code",
   "execution_count": 30,
   "metadata": {},
   "outputs": [],
   "source": [
    "# Convert Report JSon to columns\n",
    "sample_report = complete_results['report'].iloc[0]\n",
    "\n",
    "apliances_columns = []\n",
    "\n",
    "for key in sample_report.keys():\n",
    "\n",
    "    for metric in sample_report[key]:\n",
    "        apliances_columns.append(key + \"_\" + metric)\n",
    "\n",
    "# Extract a list of all the metrics\n",
    "\n",
    "report_as_list = complete_results['report'].to_list()\n",
    "\n",
    "apliances_kpis = []\n",
    "\n",
    "for report in report_as_list:\n",
    "\n",
    "    row_metrics = []\n",
    "\n",
    "    for key in report.keys():\n",
    "\n",
    "        for metric in report[key]:\n",
    "            row_metrics.append(report[key][metric])\n",
    "\n",
    "    apliances_kpis.append(row_metrics)\n",
    "\n",
    "complete_results = complete_results.reindex(columns=complete_results.columns.tolist() + apliances_columns) \n",
    "complete_results[apliances_columns] = apliances_kpis\n",
    "complete_results.to_csv(\"complete_results.csv\")"
   ]
  }
 ],
 "metadata": {
  "kernelspec": {
   "display_name": "Python 3.7.8 ('nilmtk-env')",
   "language": "python",
   "name": "python3"
  },
  "language_info": {
   "codemirror_mode": {
    "name": "ipython",
    "version": 3
   },
   "file_extension": ".py",
   "mimetype": "text/x-python",
   "name": "python",
   "nbconvert_exporter": "python",
   "pygments_lexer": "ipython3",
   "version": "3.7.8"
  },
  "orig_nbformat": 4,
  "vscode": {
   "interpreter": {
    "hash": "c2798ecf838f76291c7848af8fe987a15a8c1ed6292b025a28164137c09ab617"
   }
  }
 },
 "nbformat": 4,
 "nbformat_minor": 2
}
